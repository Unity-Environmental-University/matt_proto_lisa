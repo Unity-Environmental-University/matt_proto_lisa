{
 "cells": [
  {
   "cell_type": "code",
   "id": "initial_id",
   "metadata": {
    "collapsed": true,
    "ExecuteTime": {
     "end_time": "2025-09-30T17:26:42.195276Z",
     "start_time": "2025-09-30T17:26:41.207767Z"
    }
   },
   "source": [
    "import pandas as pd\n",
    "import sqlite3"
   ],
   "outputs": [],
   "execution_count": 1
  },
  {
   "metadata": {
    "ExecuteTime": {
     "end_time": "2025-09-30T13:08:25.020686Z",
     "start_time": "2025-09-30T13:08:23.989680Z"
    }
   },
   "cell_type": "code",
   "source": [
    "users = pd.read_csv('table_2025_csvs/users.csv')\n",
    "print(users.head())"
   ],
   "id": "7ed3b25d9c446065",
   "outputs": [
    {
     "name": "stdout",
     "output_type": "stream",
     "text": [
      "         id                            lti_context_id            name  \\\n",
      "0  12375680  d15094ecdba7851b21007639994f090560263a50     Peyton Bean   \n",
      "1  12893799  8439d1b3c394c6fbc78bd66b68bcedf9412f9c3a  Amber Williams   \n",
      "2  12037441  f83b2108661ca2ec8d1021ace5ca4a99339d2047   Megan Morales   \n",
      "3  12201899  23a96162c005ee0f75f83081ddde79a138eb56c7    Morgan Weiss   \n",
      "4   9800735  c36132cac445af9767c38cce07712aa44a2dfa3b   Ian Macknight   \n",
      "\n",
      "                 created_at workflow_state                updated_at  \\\n",
      "0  2021-11-22T20:14:06.009Z     registered  2025-09-29T05:51:59.086Z   \n",
      "1  2022-11-01T22:03:05.168Z     registered  2024-04-08T20:10:14.979Z   \n",
      "2  2021-04-12T22:01:14.166Z     registered  2024-08-22T07:00:47.934Z   \n",
      "3  2021-08-09T22:08:06.918Z     registered  2025-09-29T06:00:36.104Z   \n",
      "4  2020-03-12T15:01:11.081Z     registered  2025-05-15T07:05:58.244Z   \n",
      "\n",
      "     sortable_name                                   avatar_image_url  \\\n",
      "0     Bean, Peyton  https://unity.instructure.com/images/thumbnail...   \n",
      "1  Williams, Amber  https://unity.instructure.com/files/248899310/...   \n",
      "2   Morales, Megan  https://unity.instructure.com/images/thumbnail...   \n",
      "3    Weiss, Morgan  https://unity.instructure.com/images/thumbnail...   \n",
      "4   Macknight, Ian  https://unity.instructure.com/images/thumbnail...   \n",
      "\n",
      "  avatar_image_source   avatar_image_updated_at      short_name  \\\n",
      "0          attachment  2022-02-21T05:06:19.294Z     Peyton Bean   \n",
      "1            external  2022-11-11T00:38:49.986Z  Amber Williams   \n",
      "2          attachment  2024-07-18T04:00:36.791Z   Megan Morales   \n",
      "3          attachment  2021-08-11T22:32:27.937Z    Morgan Weiss   \n",
      "4          attachment  2023-01-09T13:16:09.788Z   Ian Macknight   \n",
      "\n",
      "            last_logged_out pronouns                   time_zone  \\\n",
      "0  2023-04-03T00:59:05.118Z  she_her  Eastern Time (US & Canada)   \n",
      "1                       NaN      NaN  Eastern Time (US & Canada)   \n",
      "2  2023-05-26T02:43:08.684Z      NaN  Eastern Time (US & Canada)   \n",
      "3                       NaN      NaN  Eastern Time (US & Canada)   \n",
      "4  2022-10-31T12:49:03.660Z      NaN  Eastern Time (US & Canada)   \n",
      "\n",
      "                                       uuid locale deleted_at  \\\n",
      "0  GoowrC5gdrZnRB2MZNEMgizE3gfym9snhGa3ywPc    NaN        NaN   \n",
      "1  uupdxB8HPpkrywwuS9dK2h0qyZLrXQEgXGzjfBBq    NaN        NaN   \n",
      "2  UrGrBE0IuWvMvL3iqRTVcNBr49kI0VP3PLdJwCl7    NaN        NaN   \n",
      "3  5ZEm7Q9Y3yUkm9GbFJyyAkXXCLfoqMyv5LQhbKCw    NaN        NaN   \n",
      "4  tOEH3Ui7Vfv7V7csqXSneNmWEhA8BECVILrIBdTp    NaN        NaN   \n",
      "\n",
      "   merged_into_user_id  \n",
      "0                  NaN  \n",
      "1                  NaN  \n",
      "2                  NaN  \n",
      "3                  NaN  \n",
      "4                  NaN  \n"
     ]
    }
   ],
   "execution_count": 10
  },
  {
   "metadata": {
    "ExecuteTime": {
     "end_time": "2025-09-30T13:08:25.138588Z",
     "start_time": "2025-09-30T13:08:25.131699Z"
    }
   },
   "cell_type": "code",
   "source": "print(len(users))",
   "id": "916037fcabe65952",
   "outputs": [
    {
     "name": "stdout",
     "output_type": "stream",
     "text": [
      "46814\n"
     ]
    }
   ],
   "execution_count": 11
  },
  {
   "metadata": {
    "ExecuteTime": {
     "end_time": "2025-09-30T17:26:46.432426Z",
     "start_time": "2025-09-30T17:26:46.420458Z"
    }
   },
   "cell_type": "code",
   "source": "testdb_path = r\"E:\\matt_lisa_dev\\matt_lisa\\LisaEnginePrototype\\test_output\\databases\\lisa_test.db\"",
   "id": "df8f48a551040f54",
   "outputs": [],
   "execution_count": 2
  },
  {
   "metadata": {
    "ExecuteTime": {
     "end_time": "2025-09-30T13:16:30.998129Z",
     "start_time": "2025-09-30T13:16:30.387556Z"
    }
   },
   "cell_type": "code",
   "source": [
    "# make df from test db - compare name and id columns - should only be 1 diff\n",
    "# need to do this for each - possible processing is bad for one of them\n",
    "\n",
    "conn = sqlite3.connect(testdb_path)\n",
    "testdbdf = pd.read_sql_query(\"SELECT * FROM users\", conn)\n",
    "conn.close()\n",
    "\n",
    "print(len(testdbdf))"
   ],
   "id": "fac56daca90326c9",
   "outputs": [
    {
     "name": "stdout",
     "output_type": "stream",
     "text": [
      "46815\n"
     ]
    }
   ],
   "execution_count": 16
  },
  {
   "metadata": {
    "ExecuteTime": {
     "end_time": "2025-09-30T13:42:30.005560Z",
     "start_time": "2025-09-30T13:42:29.820484Z"
    }
   },
   "cell_type": "code",
   "source": [
    "dbcolumns = testdbdf[['name','sis_id']].copy()\n",
    "dbcolumns.rename(columns={'sis_id':'id'}, inplace=True)\n",
    "dbcolumns = dbcolumns.astype({'id':'int64', 'name':'string'})\n",
    "\n",
    "print(dbcolumns.head())\n",
    "\n",
    "dfcolumns = users[['name', 'id']].copy()\n",
    "dfcolumns = dfcolumns.astype({'id':'int64', 'name':'string'})\n",
    "\n",
    "print(dfcolumns.head())\n",
    "\n",
    "db = dbcolumns.reset_index(drop=True).sort_index(axis=1)\n",
    "df = dfcolumns.reset_index(drop=True).sort_index(axis=1)\n",
    "\n",
    "comparison = db.equals(df)   # returns True/False\n",
    "print(\"Are they the same?\", comparison)\n",
    "\n",
    "mismatches = db.ne(df)  # True where different\n",
    "print(\"Mismatches:\\n\", db[mismatches.any(axis=1)])\n",
    "print(\"vs:\\n\", df[mismatches.any(axis=1)])"
   ],
   "id": "7909fc0c2ad9e3bc",
   "outputs": [
    {
     "name": "stdout",
     "output_type": "stream",
     "text": [
      "             name        id\n",
      "0     Peyton Bean  12375680\n",
      "1  Amber Williams  12893799\n",
      "2   Megan Morales  12037441\n",
      "3    Morgan Weiss  12201899\n",
      "4   Ian Macknight   9800735\n",
      "             name        id\n",
      "0     Peyton Bean  12375680\n",
      "1  Amber Williams  12893799\n",
      "2   Megan Morales  12037441\n",
      "3    Morgan Weiss  12201899\n",
      "4   Ian Macknight   9800735\n",
      "Are they the same? False\n",
      "Mismatches:\n",
      "              id          name\n",
      "46814  17972504  Test Student\n",
      "vs:\n",
      " Empty DataFrame\n",
      "Columns: [id, name]\n",
      "Index: []\n"
     ]
    },
    {
     "name": "stderr",
     "output_type": "stream",
     "text": [
      "C:\\Users\\MVirgin\\AppData\\Local\\Temp\\2\\ipykernel_6040\\3583273989.py:20: UserWarning: Boolean Series key will be reindexed to match DataFrame index.\n",
      "  print(\"vs:\\n\", df[mismatches.any(axis=1)])\n"
     ]
    }
   ],
   "execution_count": 37
  },
  {
   "metadata": {
    "ExecuteTime": {
     "end_time": "2025-09-30T17:27:26.036517Z",
     "start_time": "2025-09-30T17:27:17.666276Z"
    }
   },
   "cell_type": "code",
   "source": [
    "## checking courses\n",
    "conn = sqlite3.connect(testdb_path)\n",
    "coursedbf = pd.read_sql_query(\"SELECT * FROM course_instances\", conn)\n",
    "conn.close()\n",
    "\n",
    "print(len(coursedbf))"
   ],
   "id": "63e13ce3afaae0de",
   "outputs": [
    {
     "name": "stdout",
     "output_type": "stream",
     "text": [
      "28055\n"
     ]
    }
   ],
   "execution_count": 4
  },
  {
   "metadata": {
    "ExecuteTime": {
     "end_time": "2025-09-30T17:28:27.363911Z",
     "start_time": "2025-09-30T17:28:26.857238Z"
    }
   },
   "cell_type": "code",
   "source": [
    "courses = pd.read_csv('table_2025_csvs/courses.csv')\n",
    "print(len(courses))"
   ],
   "id": "73f6f33297e0cbcc",
   "outputs": [
    {
     "name": "stdout",
     "output_type": "stream",
     "text": [
      "28055\n"
     ]
    },
    {
     "name": "stderr",
     "output_type": "stream",
     "text": [
      "C:\\Users\\MVirgin\\AppData\\Local\\Temp\\2\\ipykernel_11600\\3873496369.py:1: DtypeWarning: Columns (39) have mixed types. Specify dtype option on import or set low_memory=False.\n",
      "  courses = pd.read_csv('table_2025_csvs/courses.csv')\n"
     ]
    }
   ],
   "execution_count": 5
  },
  {
   "metadata": {
    "ExecuteTime": {
     "end_time": "2025-09-30T17:35:03.633113Z",
     "start_time": "2025-09-30T17:35:03.234266Z"
    }
   },
   "cell_type": "code",
   "source": [
    "dbcolumns = coursedbf[['title','canvas_id']].copy()\n",
    "dbcolumns.rename(columns={'canvas_id':'id', 'title':'name'}, inplace=True)\n",
    "dbcolumns = dbcolumns.astype({'id':'int64', 'name':'string'})\n",
    "\n",
    "print(dbcolumns.head())\n",
    "\n",
    "dfcolumns = courses[['name', 'id']].copy()\n",
    "dfcolumns = dfcolumns.astype({'id':'int64', 'name':'string'})\n",
    "\n",
    "print(dfcolumns.head())\n",
    "\n",
    "db = dbcolumns.reset_index(drop=True).sort_index(axis=1)\n",
    "df = dfcolumns.reset_index(drop=True).sort_index(axis=1)\n",
    "\n",
    "comparison = db.equals(df)   # returns True/False\n",
    "print(\"Are they the same?\", comparison)\n",
    "\n",
    "mismatches = db.ne(df)  # True where different\n",
    "print(\"Mismatches:\\n\", db[mismatches.any(axis=1)])\n",
    "print(\"vs:\\n\", df[mismatches.any(axis=1)])"
   ],
   "id": "733117a56c72ca5e",
   "outputs": [
    {
     "name": "stdout",
     "output_type": "stream",
     "text": [
      "                                                name       id\n",
      "0  DE/HL-23-Feb_EVPC401-01: TRANSFORMATIONAL LEAD...  3654510\n",
      "1  DE/HL-23-Feb_MBAQ203-01: GLOBAL DIV FRESHWATER...  3654337\n",
      "2  DE/HL-23-Feb_GISC301-01: APPLIED SPATIAL ANALY...  3654514\n",
      "3  DE/HL-23-Feb_MBAQ203-02: GLOBAL DIV FRESHWATER...  3654338\n",
      "4  DE/HL-23-Feb_EVPC201-06: ENV. ISSUES: DEFOREST...  3654500\n",
      "                                                name       id\n",
      "0  DE/HL-23-Feb_EVPC401-01: TRANSFORMATIONAL LEAD...  3654510\n",
      "1  DE/HL-23-Feb_MBAQ203-01: GLOBAL DIV FRESHWATER...  3654337\n",
      "2  DE/HL-23-Feb_GISC301-01: APPLIED SPATIAL ANALY...  3654514\n",
      "3  DE/HL-23-Feb_MBAQ203-02: GLOBAL DIV FRESHWATER...  3654338\n",
      "4  DE/HL-23-Feb_EVPC201-06: ENV. ISSUES: DEFOREST...  3654500\n",
      "Are they the same? True\n",
      "Mismatches:\n",
      " Empty DataFrame\n",
      "Columns: [id, name]\n",
      "Index: []\n",
      "vs:\n",
      " Empty DataFrame\n",
      "Columns: [id, name]\n",
      "Index: []\n"
     ]
    }
   ],
   "execution_count": 7
  }
 ],
 "metadata": {
  "kernelspec": {
   "display_name": "Python 3",
   "language": "python",
   "name": "python3"
  },
  "language_info": {
   "codemirror_mode": {
    "name": "ipython",
    "version": 2
   },
   "file_extension": ".py",
   "mimetype": "text/x-python",
   "name": "python",
   "nbconvert_exporter": "python",
   "pygments_lexer": "ipython2",
   "version": "2.7.6"
  }
 },
 "nbformat": 4,
 "nbformat_minor": 5
}
